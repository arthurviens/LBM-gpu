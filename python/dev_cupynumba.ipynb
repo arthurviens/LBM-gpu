{
 "cells": [
  {
   "cell_type": "markdown",
   "id": "5e46c8d6",
   "metadata": {},
   "source": [
    "# Imports"
   ]
  },
  {
   "cell_type": "code",
   "execution_count": 1,
   "id": "09c126b8",
   "metadata": {},
   "outputs": [],
   "source": [
    "import numpy as np\n",
    "import cupy as cp\n",
    "from numba import cuda, vectorize\n",
    "from numpy import format_float_scientific as fs\n",
    "import matplotlib.pyplot as plt\n",
    "from matplotlib import cm\n",
    "import time\n",
    "import math\n",
    "\n",
    "from lbmFlowAroundCylinder import Timer, TimersManager\n",
    "from lbmFlowAroundCylinder import inivel, obstacle_fun"
   ]
  },
  {
   "cell_type": "markdown",
   "id": "b5978f41",
   "metadata": {},
   "source": [
    "## Timers definition"
   ]
  },
  {
   "cell_type": "code",
   "execution_count": 2,
   "id": "cf2c508b",
   "metadata": {},
   "outputs": [],
   "source": [
    "timers = TimersManager()\n",
    "timers.add(\"main\")\n",
    "timers.add(\"equilibrium\")\n",
    "timers.add(\"collision\")\n",
    "timers.add(\"streaming\")\n",
    "timers.add(\"macroscopic\")\n",
    "timers.add(\"rightwall\")\n",
    "timers.add(\"leftwall\")\n",
    "timers.add(\"fin_inflow\")\n",
    "timers.add(\"bounceback\")\n",
    "timers.add(\"move_gpu->cpu\")\n",
    "timers.add(\"move_cpu->gpu\")"
   ]
  },
  {
   "cell_type": "markdown",
   "id": "0c1221c4",
   "metadata": {},
   "source": [
    "## Flow definitions"
   ]
  },
  {
   "cell_type": "code",
   "execution_count": 3,
   "id": "817c4d96",
   "metadata": {},
   "outputs": [],
   "source": [
    "maxIter = 2000    # Total number of time iterations.\n",
    "Re = 150.0          # Reynolds number.\n",
    "nx, ny = 420, 180   # Numer of lattice nodes.\n",
    "ly = ny-1           # Height of the domain in lattice units.\n",
    "cx, cy, r = nx//4, ny//2, ny//9 # Coordinates of the cylinder.\n",
    "uLB     = 0.04                  # Velocity in lattice units.\n",
    "nulb    = uLB*r/Re;             # Viscoscity in lattice units.\n",
    "omega = 1 / (3*nulb+0.5);    # Relaxation parameter.\n",
    "save_figures = True\n",
    "profile = True"
   ]
  },
  {
   "cell_type": "markdown",
   "id": "92440eef",
   "metadata": {},
   "source": [
    "## Lattice constants"
   ]
  },
  {
   "cell_type": "code",
   "execution_count": 4,
   "id": "94dd09b9",
   "metadata": {},
   "outputs": [],
   "source": [
    "v = cuda.to_device(np.array([ [ 1,  1], [ 1,  0], [ 1, -1], [ 0,  1], [ 0,  0],\n",
    "               [ 0, -1], [-1,  1], [-1,  0], [-1, -1] ], dtype=np.int32)) # 9 vecteurs : 9 directions de déplacement\n",
    "v_np = np.empty(shape=v.shape, dtype=v.dtype)\n",
    "v.copy_to_host(v_np)\n",
    "\n",
    "t = cuda.to_device(np.array([ 1/36, 1/9, 1/36, 1/9, 4/9, 1/9, 1/36, 1/9, 1/36], \n",
    "                            dtype=np.float32))\n",
    "t_np = np.empty(shape=t.shape, dtype=t.dtype)\n",
    "t.copy_to_host(t_np)\n",
    "\n",
    "col1 = np.array([0, 1, 2])\n",
    "col2 = np.array([3, 4, 5])\n",
    "col3 = np.array([6, 7, 8])"
   ]
  },
  {
   "cell_type": "markdown",
   "id": "5cef7d59",
   "metadata": {},
   "source": [
    "# Code main functions"
   ]
  },
  {
   "cell_type": "markdown",
   "id": "a0e3959f",
   "metadata": {},
   "source": [
    "## Border Outflow : RightWall"
   ]
  },
  {
   "cell_type": "code",
   "execution_count": 5,
   "id": "3d5bfd49",
   "metadata": {},
   "outputs": [],
   "source": [
    "rig_threadsperblock = 8\n",
    "rig_blockspergrid_y = math.ceil(ny / rig_threadsperblock)\n",
    "rig_blockspergrid = (rig_blockspergrid_y)\n",
    "\n",
    "\n",
    "@cuda.jit\n",
    "def rightwall_cuda(fin):\n",
    "    y = cuda.grid(1)\n",
    "    if y < fin.shape[2]:\n",
    "        fin[6, nx-1, y] = fin[6, nx-2, y]\n",
    "        fin[7, nx-1, y] = fin[7, nx-2, y]\n",
    "        fin[8, nx-1, y] = fin[8, nx-2, y]"
   ]
  },
  {
   "cell_type": "markdown",
   "id": "411e58e6",
   "metadata": {},
   "source": [
    "### Macroscopic"
   ]
  },
  {
   "cell_type": "code",
   "execution_count": 6,
   "id": "80346e67",
   "metadata": {},
   "outputs": [],
   "source": [
    "@cuda.jit\n",
    "def sum_kernel_axis0(A, out):\n",
    "    \"\"\" Performs the sum on axis 0\n",
    "    \"\"\"\n",
    "    y, z = cuda.grid(2)\n",
    "\n",
    "    if y < A.shape[1] and z < A.shape[2]:\n",
    "        tmp = 0\n",
    "        for i in range(A.shape[0]):\n",
    "            tmp += A[i, y, z]\n",
    "        out[y, z] = tmp\n",
    "\n",
    "def macroscopic(fin): \n",
    "    \"\"\"Compute macroscopic variables (density, velocity)\n",
    "\n",
    "    fluid density is 0th moment of distribution functions \n",
    "    fluid velocity components are 1st order moments of dist. functions\n",
    "    \"\"\"\n",
    "    rho = np.sum(fin, axis=0)\n",
    "    u = np.zeros((2, nx, ny))\n",
    "    for i in range(9):\n",
    "        u[0,:,:] += v[i,0] * fin[i,:,:]\n",
    "        u[1,:,:] += v[i,1] * fin[i,:,:]\n",
    "    u /= rho\n",
    "    return rho, u\n",
    "        \n",
    "        \n",
    "mac_threadsperblock = (16, 16)\n",
    "mac_blockspergrid_x = math.ceil(nx / mac_threadsperblock[0])\n",
    "mac_blockspergrid_y = math.ceil(ny / mac_threadsperblock[1])\n",
    "mac_blockspergrid = (mac_blockspergrid_x, mac_blockspergrid_y)\n",
    "\n",
    "\n",
    "@cuda.jit\n",
    "def macroscopic_cuda(fin, v, rho_out, u_out):\n",
    "    x, y = cuda.grid(2)\n",
    "    if x < rho_out.shape[0] and y < rho_out.shape[1]:\n",
    "        rho_tmp = 0\n",
    "        ux_tmp = 0\n",
    "        uy_tmp = 0\n",
    "        for ipop in range(9):\n",
    "            rho_tmp += fin[ipop, x, y]\n",
    "            ux_tmp += v[ipop, 0] * fin[ipop, x, y]\n",
    "            uy_tmp += v[ipop, 1] * fin[ipop, x, y]\n",
    "        rho_out[x, y] = rho_tmp\n",
    "        u_out[0, x, y] = ux_tmp / rho_tmp\n",
    "        u_out[1, x, y] = uy_tmp / rho_tmp"
   ]
  },
  {
   "cell_type": "markdown",
   "id": "31409f17",
   "metadata": {},
   "source": [
    "## LeftWall"
   ]
  },
  {
   "cell_type": "code",
   "execution_count": 7,
   "id": "a2e84d04",
   "metadata": {},
   "outputs": [],
   "source": [
    "lef_threadsperblock = 8\n",
    "lef_blockspergrid_y = math.ceil(ny / lef_threadsperblock)\n",
    "lef_blockspergrid = (lef_blockspergrid_y)\n",
    "# Appelé comme ça \n",
    "#leftwall_cuda[lef_blockspergrid, lef_threadsperblock](fin_device, vel_device, u_device, rho_device)\n",
    "\n",
    "\n",
    "@cuda.jit\n",
    "def leftwall_cuda(fin, vel, u_out, rho_out):\n",
    "    y = cuda.grid(1)\n",
    "    if y < fin.shape[2]:\n",
    "        ux = vel[0, 0, y]\n",
    "        u_out[0, 0, y] = ux\n",
    "        u_out[1, 0, y] = vel[1, 0, y]\n",
    "        rho_out[0, y] = (1 / (1 - ux)) * (fin[3, 0, y] + fin[4, 0, y] + fin[5, 0, y] + \\\n",
    "                                        2 * (fin[6, 0, y] + fin[7, 0, y] + fin[8, 0, y]))"
   ]
  },
  {
   "cell_type": "markdown",
   "id": "0dce3ef8",
   "metadata": {},
   "source": [
    "## Equilibrium"
   ]
  },
  {
   "cell_type": "code",
   "execution_count": 8,
   "id": "c8ca2491",
   "metadata": {},
   "outputs": [],
   "source": [
    "def equilibrium(rho, u):\n",
    "    \"\"\"Equilibrium distribution function.\n",
    "    \"\"\"\n",
    "    usqr = 3/2 * (u[0]**2 + u[1]**2)\n",
    "    feq = np.zeros((9,nx,ny))\n",
    "    for i in range(9):\n",
    "        cu = 3 * (v[i,0]*u[0,:,:] + v[i,1]*u[1,:,:])\n",
    "        feq[i,:,:] = rho*t[i] * (1 + cu + 0.5*cu**2 - usqr) \n",
    "        # feq[i,:,:] : dimension 1 la direction de déplacement de la particule\n",
    "        #               dimension 2 et 3 : x et y la position\n",
    "    return feq\n",
    "\n",
    "equ_threadsperblock = (16, 16)\n",
    "equ_blockspergrid_x = math.ceil(nx / equ_threadsperblock[0])\n",
    "equ_blockspergrid_y = math.ceil(ny / equ_threadsperblock[1])\n",
    "equ_blockspergrid   = (equ_blockspergrid_x, equ_blockspergrid_y)\n",
    "\n",
    "@cuda.jit\n",
    "def equilibrium_cuda(rho, u, v, t, feq_out):\n",
    "    x, y = cuda.grid(2)\n",
    "    if x < rho.shape[0] and y < rho.shape[1]:\n",
    "        ux = u[0, x, y]\n",
    "        uy = u[1, x, y]\n",
    "        usqr = 1.5 * (ux * ux + uy * uy) \n",
    "        for ipop in range(9):\n",
    "            cu = 3 * (v[ipop, 0] * ux + v[ipop, 1] * uy)\n",
    "            feq_out[ipop, x, y] = rho[x, y] * t[ipop] * (1 + cu + 0.5 * cu * cu - usqr)"
   ]
  },
  {
   "cell_type": "markdown",
   "id": "840be9fe",
   "metadata": {},
   "source": [
    "## Fin_Inflow"
   ]
  },
  {
   "cell_type": "code",
   "execution_count": 9,
   "id": "c3a3c36f",
   "metadata": {},
   "outputs": [],
   "source": [
    "inf_threadsperblock = 8\n",
    "inf_blockspergrid_y = math.ceil(ny / inf_threadsperblock)\n",
    "inf_blockspergrid = (inf_blockspergrid_y)\n",
    "\n",
    "@cuda.jit\n",
    "def fin_inflow_cuda(feq, fin_out):\n",
    "    y = cuda.grid(1)\n",
    "    if y < fin_out.shape[2]:\n",
    "        fin_out[0, 0, y] = feq[0, 0, y] + fin_out[8, 0, y] - feq[8, 0, y]\n",
    "        fin_out[1, 0, y] = feq[1, 0, y] + fin_out[7, 0, y] - feq[7, 0, y]\n",
    "        fin_out[2, 0, y] = feq[2, 0, y] + fin_out[6, 0, y] - feq[6, 0, y]"
   ]
  },
  {
   "cell_type": "markdown",
   "id": "69481278",
   "metadata": {},
   "source": [
    "## Collision"
   ]
  },
  {
   "cell_type": "code",
   "execution_count": 10,
   "id": "c7cc892a",
   "metadata": {},
   "outputs": [],
   "source": [
    "col_threadsperblock = (16, 16)\n",
    "col_blockspergrid_x = math.ceil(nx / col_threadsperblock[0])\n",
    "col_blockspergrid_y = math.ceil(ny / col_threadsperblock[1])\n",
    "col_blockspergrid   = (col_blockspergrid_x, col_blockspergrid_y)\n",
    "\n",
    "@cuda.jit\n",
    "def collision_cuda(fin, feq, f_out):\n",
    "    x, y = cuda.grid(2)\n",
    "    if x < fin.shape[1] and y < fin.shape[2]:\n",
    "        for ipop in range(9):\n",
    "            f_out[ipop, x, y] = fin[ipop, x, y] - omega * (fin[ipop, x, y] - feq[ipop, x, y])"
   ]
  },
  {
   "cell_type": "markdown",
   "id": "416377b8",
   "metadata": {},
   "source": [
    "## BounceBack"
   ]
  },
  {
   "cell_type": "code",
   "execution_count": 11,
   "id": "7daaaa36",
   "metadata": {},
   "outputs": [],
   "source": [
    "bou_threadsperblock = (16, 16)\n",
    "bou_blockspergrid_x = math.ceil(nx / bou_threadsperblock[0])\n",
    "bou_blockspergrid_y = math.ceil(ny / bou_threadsperblock[1])\n",
    "bou_blockspergrid   = (bou_blockspergrid_x, bou_blockspergrid_y)\n",
    "\n",
    "\n",
    "@cuda.jit\n",
    "def bounceback_cuda(fin, obstacle, f_out):\n",
    "    x, y = cuda.grid(2)\n",
    "    if x < obstacle.shape[0] and y < obstacle.shape[1]:\n",
    "        if obstacle[x, y] == 1:\n",
    "            for i in range(9):\n",
    "                f_out[i, x, y] = fin[8 - i, x, y]"
   ]
  },
  {
   "cell_type": "markdown",
   "id": "7ef3bbbf",
   "metadata": {},
   "source": [
    "## Streaming Step"
   ]
  },
  {
   "cell_type": "code",
   "execution_count": 12,
   "id": "9b70eec4",
   "metadata": {},
   "outputs": [],
   "source": [
    "str_threadsperblock = (16, 16)\n",
    "str_blockspergrid_x = math.ceil(nx / str_threadsperblock[0])\n",
    "str_blockspergrid_y = math.ceil(ny / str_threadsperblock[1])\n",
    "str_blockspergrid   = (str_blockspergrid_x, str_blockspergrid_y)\n",
    "\n",
    "@cuda.jit\n",
    "def streaming_cuda(fout, v, fin_out):\n",
    "    x, y = cuda.grid(2)\n",
    "    if x < fout.shape[1] and y < fout.shape[2]:\n",
    "        for ipop in range(9):\n",
    "            i_out = x - v[ipop, 0]\n",
    "            if i_out < 0:\n",
    "                i_out += nx\n",
    "            if i_out > nx - 1:\n",
    "                i_out -= nx\n",
    "            j_out = y - v[ipop, 1]\n",
    "            if j_out < 0:\n",
    "                j_out += ny\n",
    "            if j_out > ny - 1:\n",
    "                j_out -= ny\n",
    "            fin_out[ipop, x, y] = fout[ipop, i_out, j_out]"
   ]
  },
  {
   "cell_type": "markdown",
   "id": "a3fea4a1",
   "metadata": {},
   "source": [
    "### Main loop"
   ]
  },
  {
   "cell_type": "code",
   "execution_count": 13,
   "id": "e6b798cc",
   "metadata": {},
   "outputs": [],
   "source": [
    "def main():\n",
    "    # create obstacle mask array from element-wise function\n",
    "    obstacle = np.fromfunction(obstacle_fun, (nx,ny))\n",
    "    obstacle_device = cuda.to_device(obstacle)\n",
    "    \n",
    "    # initial velocity field vx,vy from element-wise function\n",
    "    # vel is also used for inflow border condition\n",
    "    vel = np.fromfunction(inivel, (2,nx,ny)) \n",
    "    vel_device = cuda.to_device(vel)\n",
    "    \n",
    "    # Initialization of the populations at equilibrium \n",
    "    # with the given velocity.\n",
    "    fin = equilibrium(1, vel)\n",
    "    fin_device = cuda.to_device(fin)\n",
    "    \n",
    "    rho = np.zeros(shape=(fin.shape[1], fin.shape[2]))\n",
    "    rho_device = cuda.to_device(rho)\n",
    "    \n",
    "    u = np.zeros((2, nx, ny), dtype=np.float32)\n",
    "    u_device = cuda.to_device(u)\n",
    "    \n",
    "    feq = np.zeros_like(fin)\n",
    "    feq_device = cuda.to_device(feq)\n",
    "    \n",
    "    fout = np.zeros_like(fin)\n",
    "    fout_device = cuda.to_device(fout)\n",
    "    \n",
    "\n",
    "    ###### Main time loop ########\n",
    "    for time in range(maxIter):\n",
    "        # Right wall: outflow condition.\n",
    "        # we only need here to specify distrib. function for velocities\n",
    "        # that enter the domain (other that go out, are set by the streaming step)\n",
    "        \n",
    "        timers.get(\"rightwall\").start()\n",
    "        #fin[col3,nx-1,:] = fin[col3,nx-2,:] \n",
    "        rightwall_cuda[rig_blockspergrid, rig_threadsperblock](fin_device)\n",
    "        timers.get(\"rightwall\").end()\n",
    "\n",
    "        \n",
    "        timers.get(\"move_cpu->gpu\").start()\n",
    "        rho_device = cuda.to_device(rho)\n",
    "        u_device = cuda.to_device(u)\n",
    "        timers.get(\"move_cpu->gpu\").end()\n",
    "        # Compute macroscopic variables, density and velocity.\n",
    "        timers.get(\"macroscopic\").start()\n",
    "        macroscopic_cuda[mac_blockspergrid, mac_threadsperblock](fin_device, v, rho_device, u_device) # Timer in func\n",
    "        #rho, u = macroscopic(fin)\n",
    "        timers.get(\"macroscopic\").end()\n",
    "        \n",
    "        \"\"\"timers.get(\"move_gpu->cpu\").start() # A remettre pour exécution sur CPU\n",
    "        rho_device.copy_to_host(rho)           # A remettre pour exécution sur CPU\n",
    "        u_device.copy_to_host(u)               # A remettre pour exécution sur CPU\n",
    "        fin_device.copy_to_host(fin)           # A remettre pour exécution sur CPU\n",
    "        timers.get(\"move_gpu->cpu\").end()\"\"\"   # A remettre pour exécution sur CPU\n",
    "        \n",
    "        # Left wall: inflow condition.\n",
    "        timers.get(\"leftwall\").start()\n",
    "        ########################## NE FONCTIONNE PAS\n",
    "        #u[:,0,:] = vel[:,0,:]                                             # A remettre pour exécution sur CPU\n",
    "        #rho[0,:] = 1/(1-u[0,0,:]) * ( np.sum(fin[col2,0,:], axis=0) +     # A remettre pour exécution sur CPU\n",
    "        #                                2*np.sum(fin[col3,0,:], axis=0) ) # A remettre pour exécution sur CPU\n",
    "        leftwall_cuda[lef_blockspergrid, lef_threadsperblock](fin_device, vel_device, u_device, rho_device)\n",
    "        timers.get(\"leftwall\").end()\n",
    "        \n",
    "        timers.get(\"move_cpu->gpu\").start()\n",
    "        \"\"\"rho_device = cuda.to_device(rho)    # A remettre pour exécution sur CPU\n",
    "        u_device = cuda.to_device(u)\"\"\"        # A remettre pour exécution sur CPU\n",
    "        feq_device = cuda.to_device(feq)       \n",
    "        timers.get(\"move_cpu->gpu\").end()   \n",
    "        \n",
    "        # Compute equilibrium.\n",
    "        timers.get(\"equilibrium\").start()\n",
    "        equilibrium_cuda[equ_blockspergrid, equ_threadsperblock](rho_device, u_device, v, t, feq_device) # Timer in func\n",
    "        #feq = equilibrium(rho, u)\n",
    "        timers.get(\"equilibrium\").end()\n",
    "    \n",
    "        timers.get(\"move_gpu->cpu\").start()\n",
    "        rho_device.copy_to_host(rho)\n",
    "        u_device.copy_to_host(u)\n",
    "        feq_device.copy_to_host(feq)\n",
    "        timers.get(\"move_gpu->cpu\").end()\n",
    "    \n",
    "        timers.get(\"fin_inflow\").start()\n",
    "        #fin_inflow_cuda[inf_blockspergrid, inf_threadsperblock](feq_device, fin_device)\n",
    "        fin[[0,1,2],0,:] = feq[[0,1,2],0,:] + fin[[8,7,6],0,:] - feq[[8,7,6],0,:]\n",
    "        timers.get(\"fin_inflow\").end()\n",
    "\n",
    "        \n",
    "        timers.get(\"move_cpu->gpu\").start()\n",
    "        fin_device = cuda.to_device(fin)\n",
    "        fout_device = cuda.to_device(fout)\n",
    "        feq_device = cuda.to_device(feq)\n",
    "        timers.get(\"move_cpu->gpu\").end()\n",
    "        \n",
    "        # Collision step.\n",
    "        timers.get(\"collision\").start()\n",
    "        #fout = fin - omega * (fin - feq) # Noyau de calcul 1\n",
    "        collision_cuda[col_blockspergrid, col_threadsperblock](fin_device, feq_device, fout_device)\n",
    "        timers.get(\"collision\").end()\n",
    "\n",
    "    \n",
    "        \n",
    "        # Bounce-back condition for obstacle.\n",
    "        # in python language, we \"slice\" fout by obstacle\n",
    "        timers.get(\"bounceback\").start()\n",
    "        bounceback_cuda[bou_blockspergrid, bou_threadsperblock](fin_device, obstacle_device, fout_device)\n",
    "        #for i in range(9):\n",
    "        #    fout[i, obstacle] = fin[8-i, obstacle]\n",
    "        timers.get(\"bounceback\").end()\n",
    "\n",
    "\n",
    "        # Streaming step.\n",
    "        timers.get(\"streaming\").start()\n",
    "        #for i in range(9):\n",
    "        #    fin[i,:,:] = np.roll(np.roll(fout[i,:,:], v_np[i,0], axis=0),\n",
    "        #                         v_np[i,1], axis=1 ) # Noyau de calcul 2\n",
    "        streaming_cuda[str_blockspergrid, str_threadsperblock](fout_device, v, fin_device)\n",
    "        timers.get(\"streaming\").end()\n",
    "\n",
    "        \n",
    "        timers.get(\"move_gpu->cpu\").start()\n",
    "        fout_device.copy_to_host(fout)\n",
    "        feq_device.copy_to_host(feq)\n",
    "        timers.get(\"move_gpu->cpu\").end()\n",
    "        \n",
    "        if ((time%100==0) and save_figures):\n",
    "            plt.clf()\n",
    "            u_device.copy_to_host(u)\n",
    "            plt.imshow(np.sqrt(u[0]**2+u[1]**2).transpose(), cmap=cm.Reds)\n",
    "            plt.show()\n",
    "            #plt.savefig(\"figures/vel.{0:04d}.png\".format(time//100))\n"
   ]
  },
  {
   "cell_type": "code",
   "execution_count": 14,
   "id": "b10ae91a",
   "metadata": {},
   "outputs": [
    {
     "name": "stderr",
     "output_type": "stream",
     "text": [
      "/home/Arthur.VIENS/miniconda3/envs/numba2021/lib/python3.9/site-packages/numba/cuda/compiler.py:865: NumbaPerformanceWarning: Grid size (23) < 2 * SM count (216) will likely result in GPU under utilization due to low occupancy.\n",
      "  warn(NumbaPerformanceWarning(msg))\n",
      "/home/Arthur.VIENS/miniconda3/envs/numba2021/lib/python3.9/site-packages/numba/cuda/compiler.py:865: NumbaPerformanceWarning: Grid size (23) < 2 * SM count (216) will likely result in GPU under utilization due to low occupancy.\n",
      "  warn(NumbaPerformanceWarning(msg))\n"
     ]
    },
    {
     "data": {
      "image/png": "[encoded data removed]",
      "text/plain": [
       "<Figure size 432x288 with 1 Axes>"
      ]
     },
     "metadata": {
      "needs_background": "light"
     },
     "output_type": "display_data"
    },
    {
     "name": "stderr",
     "output_type": "stream",
     "text": [
      "/home/Arthur.VIENS/miniconda3/envs/numba2021/lib/python3.9/site-packages/numba/cuda/compiler.py:865: NumbaPerformanceWarning: Grid size (23) < 2 * SM count (216) will likely result in GPU under utilization due to low occupancy.\n",
      "  warn(NumbaPerformanceWarning(msg))\n"
     ]
    },
    {
     "data": {
      "image/png": "[encoded data removed]",
      "text/plain": [
       "<Figure size 432x288 with 1 Axes>"
      ]
     },
     "metadata": {
      "needs_background": "light"
     },
     "output_type": "display_data"
    },
    {
     "data": {
      "image/png": "[encoded data removed]",
      "text/plain": [
       "<Figure size 432x288 with 1 Axes>"
      ]
     },
     "metadata": {
      "needs_background": "light"
     },
     "output_type": "display_data"
    },
    {
     "name": "stderr",
     "output_type": "stream",
     "text": [
      "Exception ignored in: <finalize object at 0x7f4ee46f8400; dead>\n",
      "Traceback (most recent call last):\n",
      "  File \"/home/Arthur.VIENS/miniconda3/envs/numba2021/lib/python3.9/weakref.py\", line 591, in __call__\n",
      "    return info.func(*info.args, **(info.kwargs or {}))\n",
      "  File \"/home/Arthur.VIENS/miniconda3/envs/numba2021/lib/python3.9/site-packages/numba/cuda/cudadrv/driver.py\", line 1820, in deref\n",
      "    mem.free()\n",
      "  File \"/home/Arthur.VIENS/miniconda3/envs/numba2021/lib/python3.9/site-packages/numba/cuda/cudadrv/driver.py\", line 1633, in free\n",
      "    self._finalizer()\n",
      "  File \"/home/Arthur.VIENS/miniconda3/envs/numba2021/lib/python3.9/weakref.py\", line 591, in __call__\n",
      "    return info.func(*info.args, **(info.kwargs or {}))\n",
      "  File \"/home/Arthur.VIENS/miniconda3/envs/numba2021/lib/python3.9/site-packages/numba/cuda/cudadrv/driver.py\", line 1301, in core\n",
      "    deallocations.add_item(driver.cuMemFree, handle, size)\n",
      "  File \"/home/Arthur.VIENS/miniconda3/envs/numba2021/lib/python3.9/site-packages/numba/cuda/cudadrv/driver.py\", line 988, in add_item\n",
      "    self.clear()\n",
      "  File \"/home/Arthur.VIENS/miniconda3/envs/numba2021/lib/python3.9/site-packages/numba/cuda/cudadrv/driver.py\", line 999, in clear\n",
      "    dtor(handle)\n",
      "  File \"/home/Arthur.VIENS/miniconda3/envs/numba2021/lib/python3.9/site-packages/numba/cuda/cudadrv/driver.py\", line 302, in safe_cuda_api_call\n",
      "    retcode = libfn(*args)\n",
      "KeyboardInterrupt: \n"
     ]
    },
    {
     "data": {
      "image/png": "[encoded data removed]",
      "text/plain": [
       "<Figure size 432x288 with 1 Axes>"
      ]
     },
     "metadata": {
      "needs_background": "light"
     },
     "output_type": "display_data"
    },
    {
     "data": {
      "image/png": "[encoded data removed]",
      "text/plain": [
       "<Figure size 432x288 with 1 Axes>"
      ]
     },
     "metadata": {
      "needs_background": "light"
     },
     "output_type": "display_data"
    },
    {
     "name": "stderr",
     "output_type": "stream",
     "text": [
      "/tmp/ipykernel_1510936/3698152111.py:86: RuntimeWarning: invalid value encountered in subtract\n",
      "  fin[[0,1,2],0,:] = feq[[0,1,2],0,:] + fin[[8,7,6],0,:] - feq[[8,7,6],0,:]\n"
     ]
    },
    {
     "data": {
      "image/png": "[encoded data removed]",
      "text/plain": [
       "<Figure size 432x288 with 1 Axes>"
      ]
     },
     "metadata": {
      "needs_background": "light"
     },
     "output_type": "display_data"
    },
    {
     "data": {
      "image/png": "[encoded data removed]",
      "text/plain": [
       "<Figure size 432x288 with 1 Axes>"
      ]
     },
     "metadata": {
      "needs_background": "light"
     },
     "output_type": "display_data"
    },
    {
     "data": {
      "image/png": "[encoded data removed]",
      "text/plain": [
       "<Figure size 432x288 with 1 Axes>"
      ]
     },
     "metadata": {
      "needs_background": "light"
     },
     "output_type": "display_data"
    },
    {
     "data": {
      "image/png": "[encoded data removed]",
      "text/plain": [
       "<Figure size 432x288 with 1 Axes>"
      ]
     },
     "metadata": {
      "needs_background": "light"
     },
     "output_type": "display_data"
    },
    {
     "data": {
      "image/png": "[encoded data removed]",
      "text/plain": [
       "<Figure size 432x288 with 1 Axes>"
      ]
     },
     "metadata": {
      "needs_background": "light"
     },
     "output_type": "display_data"
    },
    {
     "data": {
      "image/png": "[encoded data removed]",
      "text/plain": [
       "<Figure size 432x288 with 1 Axes>"
      ]
     },
     "metadata": {
      "needs_background": "light"
     },
     "output_type": "display_data"
    },
    {
     "data": {
      "image/png": "[encoded data removed]",
      "text/plain": [
       "<Figure size 432x288 with 1 Axes>"
      ]
     },
     "metadata": {
      "needs_background": "light"
     },
     "output_type": "display_data"
    },
    {
     "data": {
      "image/png": "[encoded data removed]",
      "text/plain": [
       "<Figure size 432x288 with 1 Axes>"
      ]
     },
     "metadata": {
      "needs_background": "light"
     },
     "output_type": "display_data"
    },
    {
     "data": {
      "image/png": "[encoded data removed]",
      "text/plain": [
       "<Figure size 432x288 with 1 Axes>"
      ]
     },
     "metadata": {
      "needs_background": "light"
     },
     "output_type": "display_data"
    },
    {
     "data": {
      "image/png": "[encoded data removed]",
      "text/plain": [
       "<Figure size 432x288 with 1 Axes>"
      ]
     },
     "metadata": {
      "needs_background": "light"
     },
     "output_type": "display_data"
    },
    {
     "data": {
      "image/png": "[encoded data removed]",
      "text/plain": [
       "<Figure size 432x288 with 1 Axes>"
      ]
     },
     "metadata": {
      "needs_background": "light"
     },
     "output_type": "display_data"
    },
    {
     "data": {
      "image/png": "[encoded data removed]",
      "text/plain": [
       "<Figure size 432x288 with 1 Axes>"
      ]
     },
     "metadata": {
      "needs_background": "light"
     },
     "output_type": "display_data"
    },
    {
     "data": {
      "image/png": "[encoded data removed]",
      "text/plain": [
       "<Figure size 432x288 with 1 Axes>"
      ]
     },
     "metadata": {
      "needs_background": "light"
     },
     "output_type": "display_data"
    },
    {
     "data": {
      "image/png": "[encoded data removed]",
      "text/plain": [
       "<Figure size 432x288 with 1 Axes>"
      ]
     },
     "metadata": {
      "needs_background": "light"
     },
     "output_type": "display_data"
    },
    {
     "data": {
      "image/png": "[encoded data removed]",
      "text/plain": [
       "<Figure size 432x288 with 1 Axes>"
      ]
     },
     "metadata": {
      "needs_background": "light"
     },
     "output_type": "display_data"
    }
   ],
   "source": [
    "timers.get(\"main\").start()\n",
    "main()\n",
    "timers.get(\"main\").end()\n",
    "\n",
    "# Warnings ignorés pour l'instant, à régler à la fin"
   ]
  },
  {
   "cell_type": "code",
   "execution_count": 15,
   "id": "3358803b",
   "metadata": {
    "scrolled": true
   },
   "outputs": [
    {
     "name": "stdout",
     "output_type": "stream",
     "text": [
      "Total time : 17.05s\n",
      "--> Timer 'main         ' : N =    1 | Mean 1.705e+01 +- 0.e+00     | 100.0% of total time.\n",
      "--> Timer 'equilibrium  ' : N = 2000 | Mean 1.967e-04 +- 3.524e-03  |  2.31% of total time.\n",
      "--> Timer 'collision    ' : N = 2000 | Mean 1.526e-04 +- 1.294e-03  |  1.79% of total time.\n",
      "--> Timer 'streaming    ' : N = 2000 | Mean 1.248e-04 +- 1.794e-03  |  1.46% of total time.\n",
      "--> Timer 'macroscopic  ' : N = 2000 | Mean 1.532e-04 +- 1.955e-03  |   1.8% of total time.\n",
      "--> Timer 'rightwall    ' : N = 2000 | Mean 2.14e-04  +- 5.669e-03  |  2.51% of total time.\n",
      "--> Timer 'leftwall     ' : N = 2000 | Mean 1.457e-04 +- 1.691e-03  |  1.71% of total time.\n",
      "--> Timer 'fin_inflow   ' : N = 2000 | Mean 4.883e-05 +- 3.260e-06  |  0.57% of total time.\n",
      "--> Timer 'bounceback   ' : N = 2000 | Mean 1.673e-04 +- 1.218e-03  |  1.96% of total time.\n",
      "--> Timer 'move_gpu->cpu' : N = 4000 | Mean 1.104e-03 +- 1.859e-04  | 25.91% of total time.\n",
      "--> Timer 'move_cpu->gpu' : N = 6000 | Mean 1.415e-03 +- 9.365e-04  | 49.81% of total time.\n",
      "--> Remaining 1.734e+00s not monitored represent 10.17% of total time\n"
     ]
    }
   ],
   "source": [
    "total = np.sum(timers.get(\"main\").getMeasures())\n",
    "print(f\"Total time : {total:4.2f}s\")\n",
    "timers.printInfo()"
   ]
  },
  {
   "cell_type": "markdown",
   "id": "f13eb34a",
   "metadata": {},
   "source": [
    "## Tests"
   ]
  },
  {
   "cell_type": "code",
   "execution_count": null,
   "id": "03979957",
   "metadata": {},
   "outputs": [],
   "source": []
  }
 ],
 "metadata": {
  "kernelspec": {
   "display_name": "Python 3 (ipykernel)",
   "language": "python",
   "name": "python3"
  },
  "language_info": {
   "codemirror_mode": {
    "name": "ipython",
    "version": 3
   },
   "file_extension": ".py",
   "mimetype": "text/x-python",
   "name": "python",
   "nbconvert_exporter": "python",
   "pygments_lexer": "ipython3",
   "version": "3.9.7"
  }
 },
 "nbformat": 4,
 "nbformat_minor": 5
}
