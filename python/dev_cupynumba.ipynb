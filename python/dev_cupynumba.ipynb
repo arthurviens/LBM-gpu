{
 "cells": [
  {
   "cell_type": "markdown",
   "id": "5e46c8d6",
   "metadata": {},
   "source": [
    "# Imports"
   ]
  },
  {
   "cell_type": "code",
   "execution_count": 1,
   "id": "09c126b8",
   "metadata": {},
   "outputs": [],
   "source": [
    "import numpy as np\n",
    "import cupy as cp\n",
    "from numba import cuda, vectorize\n",
    "from numpy import format_float_scientific as fs\n",
    "import matplotlib.pyplot as plt\n",
    "from matplotlib import cm\n",
    "import time\n",
    "import math\n",
    "\n",
    "from lbmFlowAroundCylinder import Timer, TimersManager\n",
    "from lbmFlowAroundCylinder import inivel, obstacle_fun"
   ]
  },
  {
   "cell_type": "markdown",
   "id": "b5978f41",
   "metadata": {},
   "source": [
    "## Timers definition"
   ]
  },
  {
   "cell_type": "code",
   "execution_count": 2,
   "id": "cf2c508b",
   "metadata": {},
   "outputs": [],
   "source": [
    "timers = TimersManager()\n",
    "timers.add(\"main\")\n",
    "timers.add(\"equilibrium\")\n",
    "timers.add(\"collision\")\n",
    "timers.add(\"streaming\")\n",
    "timers.add(\"macroscopic\")\n",
    "timers.add(\"rightwall\")\n",
    "timers.add(\"leftwall\")\n",
    "timers.add(\"fineq\")\n",
    "timers.add(\"bounceback\")\n",
    "timers.add(\"move_gpu->cpu\")\n",
    "timers.add(\"move_cpu->gpu\")"
   ]
  },
  {
   "cell_type": "markdown",
   "id": "0c1221c4",
   "metadata": {},
   "source": [
    "## Flow definitions"
   ]
  },
  {
   "cell_type": "code",
   "execution_count": 3,
   "id": "817c4d96",
   "metadata": {},
   "outputs": [],
   "source": [
    "maxIter = 2000    # Total number of time iterations.\n",
    "Re = 150.0          # Reynolds number.\n",
    "nx, ny = 420, 180   # Numer of lattice nodes.\n",
    "ly = ny-1           # Height of the domain in lattice units.\n",
    "cx, cy, r = nx//4, ny//2, ny//9 # Coordinates of the cylinder.\n",
    "uLB     = 0.04                  # Velocity in lattice units.\n",
    "nulb    = uLB*r/Re;             # Viscoscity in lattice units.\n",
    "omega = 1 / (3*nulb+0.5);    # Relaxation parameter.\n",
    "save_figures = False\n",
    "profile = True"
   ]
  },
  {
   "cell_type": "markdown",
   "id": "92440eef",
   "metadata": {},
   "source": [
    "## Lattice constants"
   ]
  },
  {
   "cell_type": "code",
   "execution_count": 4,
   "id": "94dd09b9",
   "metadata": {},
   "outputs": [],
   "source": [
    "v = cuda.to_device(np.array([ [ 1,  1], [ 1,  0], [ 1, -1], [ 0,  1], [ 0,  0],\n",
    "               [ 0, -1], [-1,  1], [-1,  0], [-1, -1] ], dtype=np.int32)) # 9 vecteurs : 9 directions de déplacement\n",
    "v_np = np.empty(shape=v.shape, dtype=v.dtype)\n",
    "v.copy_to_host(v_np)\n",
    "\n",
    "t = cuda.to_device(np.array([ 1/36, 1/9, 1/36, 1/9, 4/9, 1/9, 1/36, 1/9, 1/36], \n",
    "                            dtype=np.float32))\n",
    "t_np = np.empty(shape=t.shape, dtype=t.dtype)\n",
    "t.copy_to_host(t_np)\n",
    "\n",
    "col1 = np.array([0, 1, 2])\n",
    "col2 = np.array([3, 4, 5])\n",
    "col3 = np.array([6, 7, 8])"
   ]
  },
  {
   "cell_type": "markdown",
   "id": "5cef7d59",
   "metadata": {},
   "source": [
    "# Code main functions"
   ]
  },
  {
   "cell_type": "markdown",
   "id": "411e58e6",
   "metadata": {},
   "source": [
    "### Macroscopic"
   ]
  },
  {
   "cell_type": "code",
   "execution_count": 5,
   "id": "80346e67",
   "metadata": {},
   "outputs": [],
   "source": [
    "@cuda.jit\n",
    "def sum_kernel_axis0(A, out):\n",
    "    \"\"\" Performs the sum on axis 0\n",
    "    \"\"\"\n",
    "    y, z = cuda.grid(2)\n",
    "\n",
    "    if y < A.shape[1] and z < A.shape[2]:\n",
    "        tmp = 0\n",
    "        for i in range(A.shape[0]):\n",
    "            tmp += A[i, y, z]\n",
    "        out[y, z] = tmp\n",
    "\n",
    "def macroscopic(fin): \n",
    "    \"\"\"Compute macroscopic variables (density, velocity)\n",
    "\n",
    "    fluid density is 0th moment of distribution functions \n",
    "    fluid velocity components are 1st order moments of dist. functions\n",
    "    \"\"\"\n",
    "    rho = np.sum(fin, axis=0)\n",
    "    u = np.zeros((2, nx, ny))\n",
    "    for i in range(9):\n",
    "        u[0,:,:] += v[i,0] * fin[i,:,:]\n",
    "        u[1,:,:] += v[i,1] * fin[i,:,:]\n",
    "    u /= rho\n",
    "    return rho, u\n",
    "        \n",
    "        \n",
    "mac_threadsperblock = (16, 16)\n",
    "mac_blockspergrid_x = math.ceil(nx / mac_threadsperblock[0])\n",
    "mac_blockspergrid_y = math.ceil(ny / mac_threadsperblock[1])\n",
    "mac_blockspergrid = (mac_blockspergrid_x, mac_blockspergrid_y)\n",
    "\n",
    "\n",
    "@cuda.jit\n",
    "def macroscopic_cuda(fin, v, rho_out, u_out):\n",
    "    x, y = cuda.grid(2)\n",
    "    if x < rho_out.shape[0] and y < rho_out.shape[1]:\n",
    "        rho_tmp = 0\n",
    "        ux_tmp = 0\n",
    "        uy_tmp = 0\n",
    "        for ipop in range(9):\n",
    "            rho_tmp += fin[ipop, x, y]\n",
    "            ux_tmp += v[ipop, 0] * fin[ipop, x, y]\n",
    "            uy_tmp += v[ipop, 0] * fin[ipop, x, y]\n",
    "        rho_out[x, y] = rho_tmp\n",
    "        u_out[0, x, y] = ux_tmp / rho_tmp\n",
    "        u_out[1, x, y] = uy_tmp / rho_tmp"
   ]
  },
  {
   "cell_type": "markdown",
   "id": "0dce3ef8",
   "metadata": {},
   "source": [
    "### Equilibrium"
   ]
  },
  {
   "cell_type": "code",
   "execution_count": 6,
   "id": "c8ca2491",
   "metadata": {},
   "outputs": [],
   "source": [
    "def equilibrium(rho, u):\n",
    "    \"\"\"Equilibrium distribution function.\n",
    "    \"\"\"\n",
    "    usqr = 3/2 * (u[0]**2 + u[1]**2)\n",
    "    feq = np.zeros((9,nx,ny))\n",
    "    for i in range(9):\n",
    "        cu = 3 * (v[i,0]*u[0,:,:] + v[i,1]*u[1,:,:])\n",
    "        feq[i,:,:] = rho*t[i] * (1 + cu + 0.5*cu**2 - usqr) \n",
    "        # feq[i,:,:] : dimension 1 la direction de déplacement de la particule\n",
    "        #               dimension 2 et 3 : x et y la position\n",
    "    return feq\n",
    "\n",
    "equ_threadsperblock = (16, 16)\n",
    "equ_blockspergrid_x = math.ceil(nx / equ_threadsperblock[0])\n",
    "equ_blockspergrid_y = math.ceil(ny / equ_threadsperblock[1])\n",
    "equ_blockspergrid   = (equ_blockspergrid_x, equ_blockspergrid_y)\n",
    "\n",
    "@cuda.jit\n",
    "def equilibrium_cuda(rho, u, v, t, feq_out):\n",
    "    x, y = cuda.grid(2)\n",
    "    if x < rho.shape[0] and y < rho.shape[1]:\n",
    "        ux = u[0, x, y]\n",
    "        uy = u[1, x, y]\n",
    "        usqr = 1.5 * (ux * ux + uy * uy) \n",
    "        for ipop in range(9):\n",
    "            cu = 3 * (v[ipop, 0] * ux + v[ipop, 1] * uy)\n",
    "            feq_out[ipop, x, y] = rho[x, y] * t[ipop] * (1 + cu + 0.5 * cu * cu - usqr)"
   ]
  },
  {
   "cell_type": "markdown",
   "id": "416377b8",
   "metadata": {},
   "source": [
    "## BounceBack"
   ]
  },
  {
   "cell_type": "code",
   "execution_count": 7,
   "id": "7daaaa36",
   "metadata": {},
   "outputs": [],
   "source": [
    "bou_threadsperblock = (16, 16)\n",
    "bou_blockspergrid_x = math.ceil(nx / bou_threadsperblock[0])\n",
    "bou_blockspergrid_y = math.ceil(ny / bou_threadsperblock[1])\n",
    "bou_blockspergrid   = (bou_blockspergrid_x, bou_blockspergrid_y)\n",
    "\n",
    "\n",
    "@cuda.jit\n",
    "def bounceback_cuda(fin, obstacle, f_out):\n",
    "    x, y = cuda.grid(2)\n",
    "    if x < obstacle.shape[0] and y < obstacle.shape[1]:\n",
    "        if obstacle[x, y] == 1:\n",
    "            for i in range(9):\n",
    "                f_out[i, x, y] = fin[8 - i, x, y]"
   ]
  },
  {
   "cell_type": "markdown",
   "id": "a3fea4a1",
   "metadata": {},
   "source": [
    "### Main loop"
   ]
  },
  {
   "cell_type": "code",
   "execution_count": 8,
   "id": "e6b798cc",
   "metadata": {},
   "outputs": [],
   "source": [
    "def main():\n",
    "    # create obstacle mask array from element-wise function\n",
    "    obstacle = np.fromfunction(obstacle_fun, (nx,ny))\n",
    "    obstacle_device = cuda.to_device(obstacle)\n",
    "    \n",
    "    # initial velocity field vx,vy from element-wise function\n",
    "    # vel is also used for inflow border condition\n",
    "    vel = np.fromfunction(inivel, (2,nx,ny)) \n",
    "    \n",
    "    # Initialization of the populations at equilibrium \n",
    "    # with the given velocity.\n",
    "    fin = equilibrium(1, vel)\n",
    "    fin_device = cuda.to_device(fin)\n",
    "    \n",
    "    rho = np.zeros(shape=(fin.shape[1], fin.shape[2]))\n",
    "    rho_device = cuda.to_device(rho)\n",
    "    \n",
    "    u = np.zeros((2, nx, ny), dtype=np.float32)\n",
    "    u_device = cuda.to_device(u)\n",
    "    \n",
    "    feq = np.zeros_like(fin)\n",
    "    feq_device = cuda.to_device(feq)\n",
    "    \n",
    "    fout = np.zeros_like(fin)\n",
    "    fout_device = cuda.to_device(fout)\n",
    "    \n",
    "\n",
    "    ###### Main time loop ########\n",
    "    for time in range(maxIter):\n",
    "        # Right wall: outflow condition.\n",
    "        # we only need here to specify distrib. function for velocities\n",
    "        # that enter the domain (other that go out, are set by the streaming step)\n",
    "        \n",
    "\n",
    "        timers.get(\"rightwall\").start()\n",
    "        fin[col3,nx-1,:] = fin[col3,nx-2,:] \n",
    "        timers.get(\"rightwall\").end()\n",
    "\n",
    "        \n",
    "        # Compute macroscopic variables, density and velocity.\n",
    "        timers.get(\"macroscopic\").start()\n",
    "        #macroscopic_cuda[mac_blockspergrid, mac_threadsperblock](fin, v, rho, u) # Timer in func\n",
    "        rho, u = macroscopic(fin)\n",
    "        timers.get(\"macroscopic\").end()\n",
    "\n",
    "        # Left wall: inflow condition.\n",
    "        timers.get(\"leftwall\").start()\n",
    "        u[:,0,:] = vel[:,0,:]\n",
    "        rho[0,:] = 1/(1-u[0,0,:]) * ( np.sum(fin[col2,0,:], axis=0) +\n",
    "                                      2*np.sum(fin[col3,0,:], axis=0) )\n",
    "        timers.get(\"leftwall\").end()\n",
    "        \n",
    "        timers.get(\"move_cpu->gpu\").start()\n",
    "        rho_device = cuda.to_device(rho)\n",
    "        u_device = cuda.to_device(u)\n",
    "        feq_device = cuda.to_device(feq)\n",
    "        timers.get(\"move_cpu->gpu\").end()\n",
    "        \n",
    "        # Compute equilibrium.\n",
    "        timers.get(\"equilibrium\").start()\n",
    "        equilibrium_cuda[equ_blockspergrid, equ_threadsperblock](rho_device, u_device, v, t, feq_device) # Timer in func\n",
    "        #feq = equilibrium(rho, u)\n",
    "        timers.get(\"equilibrium\").end()\n",
    "    \n",
    "        timers.get(\"move_gpu->cpu\").start()\n",
    "        rho_device.copy_to_host(rho)\n",
    "        u_device.copy_to_host(u)\n",
    "        feq_device.copy_to_host(feq)\n",
    "        timers.get(\"move_gpu->cpu\").end()\n",
    "    \n",
    "        timers.get(\"fineq\").start()\n",
    "        fin[[0,1,2],0,:] = feq[[0,1,2],0,:] + fin[[8,7,6],0,:] - feq[[8,7,6],0,:]\n",
    "        timers.get(\"fineq\").end()\n",
    "\n",
    "        # Collision step.\n",
    "        timers.get(\"collision\").start()\n",
    "        fout = fin - omega * (fin - feq) # Noyau de calcul 1\n",
    "        timers.get(\"collision\").end()\n",
    "\n",
    "        \n",
    "        timers.get(\"move_cpu->gpu\").start()\n",
    "        fin_device = cuda.to_device(fin)\n",
    "        fout_device = cuda.to_device(fout)\n",
    "        timers.get(\"move_cpu->gpu\").end()\n",
    "        \n",
    "        # Bounce-back condition for obstacle.\n",
    "        # in python language, we \"slice\" fout by obstacle\n",
    "        timers.get(\"bounceback\").start()\n",
    "        bounceback_cuda[bou_blockspergrid, bou_threadsperblock](fin_device, obstacle_device, fout_device)\n",
    "        #for i in range(9):\n",
    "        #    fout[i, obstacle] = fin[8-i, obstacle]\n",
    "        timers.get(\"bounceback\").end()\n",
    "\n",
    "        timers.get(\"move_gpu->cpu\").start()\n",
    "        fin_device.copy_to_host(fin)\n",
    "        fout_device.copy_to_host(fout)\n",
    "        timers.get(\"move_gpu->cpu\").end()\n",
    "        \n",
    "        # Streaming step.\n",
    "        timers.get(\"streaming\").start()\n",
    "        for i in range(9):\n",
    "            fin[i,:,:] = np.roll(np.roll(fout[i,:,:], v_np[i,0], axis=0),\n",
    "                                 v_np[i,1], axis=1 ) # Noyau de calcul 2\n",
    "        timers.get(\"streaming\").end()\n",
    "        \n",
    "        if ((time%100==0) and save_figures):\n",
    "            plt.clf()\n",
    "            #u_host = np.zeros_like(u)\n",
    "            #u.copy_to_host(u_host)\n",
    "            plt.imshow(np.sqrt(u[0]**2+u[1]**2).transpose(), cmap=cm.Reds)\n",
    "            plt.show()\n",
    "            #plt.savefig(\"figures/vel.{0:04d}.png\".format(time//100))\n"
   ]
  },
  {
   "cell_type": "code",
   "execution_count": 9,
   "id": "b10ae91a",
   "metadata": {},
   "outputs": [],
   "source": [
    "timers.get(\"main\").start()\n",
    "main()\n",
    "timers.get(\"main\").end()"
   ]
  },
  {
   "cell_type": "code",
   "execution_count": 10,
   "id": "3358803b",
   "metadata": {
    "scrolled": true
   },
   "outputs": [
    {
     "name": "stdout",
     "output_type": "stream",
     "text": [
      "Total time : 24.35s\n",
      "--> Timer 'main         ' : N =    1 | Mean 2.435e+01 +- 0.e+00     | 100.0% of total time.\n",
      "--> Timer 'equilibrium  ' : N = 2000 | Mean 3.110e-04 +- 6.23e-03   |  2.55% of total time.\n",
      "--> Timer 'collision    ' : N = 2000 | Mean 1.258e-03 +- 4.615e-05  | 10.33% of total time.\n",
      "--> Timer 'streaming    ' : N = 2000 | Mean 1.282e-03 +- 2.058e-05  | 10.53% of total time.\n",
      "--> Timer 'macroscopic  ' : N = 2000 | Mean 2.699e-03 +- 5.995e-05  | 22.17% of total time.\n",
      "--> Timer 'rightwall    ' : N = 2000 | Mean 1.686e-05 +- 1.311e-06  |  0.14% of total time.\n",
      "--> Timer 'leftwall     ' : N = 2000 | Mean 4.272e-05 +- 1.754e-06  |  0.35% of total time.\n",
      "--> Timer 'fineq        ' : N = 2000 | Mean 3.648e-05 +- 4.355e-06  |   0.3% of total time.\n",
      "--> Timer 'bounceback   ' : N = 2000 | Mean 2.338e-04 +- 1.259e-03  |  1.92% of total time.\n",
      "--> Timer 'move_gpu->cpu' : N = 4000 | Mean 1.115e-03 +- 7.46e-05   | 18.31% of total time.\n",
      "--> Timer 'move_cpu->gpu' : N = 4000 | Mean 2.010e-03 +- 6.177e-04  | 33.02% of total time.\n",
      "--> Remaining 9.175e-02s not monitored represent  0.38% of total time\n"
     ]
    }
   ],
   "source": [
    "total = np.sum(timers.get(\"main\").getMeasures())\n",
    "print(f\"Total time : {total:4.2f}s\")\n",
    "timers.printInfo()"
   ]
  },
  {
   "cell_type": "markdown",
   "id": "f13eb34a",
   "metadata": {},
   "source": [
    "## Tests"
   ]
  }
 ],
 "metadata": {
  "kernelspec": {
   "display_name": "Python 3 (ipykernel)",
   "language": "python",
   "name": "python3"
  },
  "language_info": {
   "codemirror_mode": {
    "name": "ipython",
    "version": 3
   },
   "file_extension": ".py",
   "mimetype": "text/x-python",
   "name": "python",
   "nbconvert_exporter": "python",
   "pygments_lexer": "ipython3",
   "version": "3.9.7"
  }
 },
 "nbformat": 4,
 "nbformat_minor": 5
}
