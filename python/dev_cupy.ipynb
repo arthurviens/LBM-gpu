{
 "cells": [
  {
   "cell_type": "markdown",
   "id": "5e46c8d6",
   "metadata": {},
   "source": [
    "# Imports"
   ]
  },
  {
   "cell_type": "code",
   "execution_count": 1,
   "id": "09c126b8",
   "metadata": {},
   "outputs": [],
   "source": [
    "import numpy as np\n",
    "import cupy as cp\n",
    "from numpy import format_float_scientific as fs\n",
    "import matplotlib.pyplot as plt\n",
    "from matplotlib import cm\n",
    "import time\n",
    "\n",
    "from lbmFlowAroundCylinder import Timer, TimersManager\n",
    "from lbmFlowAroundCylinder import inivel, obstacle_fun"
   ]
  },
  {
   "cell_type": "markdown",
   "id": "b5978f41",
   "metadata": {},
   "source": [
    "## Timers definition"
   ]
  },
  {
   "cell_type": "code",
   "execution_count": 2,
   "id": "cf2c508b",
   "metadata": {},
   "outputs": [],
   "source": [
    "timers = TimersManager()\n",
    "timers.add(\"main\")\n",
    "timers.add(\"equilibrium\")\n",
    "timers.add(\"collision\")\n",
    "timers.add(\"streaming\")\n",
    "timers.add(\"macroscopic\")\n",
    "timers.add(\"rightwall\")\n",
    "timers.add(\"leftwall\")\n",
    "timers.add(\"fineq\")\n",
    "timers.add(\"bounceback\")\n",
    "timers.add(\"move_gpu->cpu\")\n",
    "timers.add(\"move_cpu->gpu\")"
   ]
  },
  {
   "cell_type": "markdown",
   "id": "0c1221c4",
   "metadata": {},
   "source": [
    "## Flow definitions"
   ]
  },
  {
   "cell_type": "code",
   "execution_count": 3,
   "id": "817c4d96",
   "metadata": {},
   "outputs": [],
   "source": [
    "maxIter = 2000    # Total number of time iterations.\n",
    "Re = 150.0          # Reynolds number.\n",
    "nx, ny = 420, 180   # Numer of lattice nodes.\n",
    "ly = ny-1           # Height of the domain in lattice units.\n",
    "cx, cy, r = nx//4, ny//2, ny//9 # Coordinates of the cylinder.\n",
    "uLB     = 0.04                  # Velocity in lattice units.\n",
    "nulb    = uLB*r/Re;             # Viscoscity in lattice units.\n",
    "omega = 1 / (3*nulb+0.5);    # Relaxation parameter.\n",
    "save_figures = False\n",
    "profile = True"
   ]
  },
  {
   "cell_type": "markdown",
   "id": "92440eef",
   "metadata": {},
   "source": [
    "## Lattice constants"
   ]
  },
  {
   "cell_type": "code",
   "execution_count": 4,
   "id": "94dd09b9",
   "metadata": {},
   "outputs": [],
   "source": [
    "v = cp.array([ [ 1,  1], [ 1,  0], [ 1, -1], [ 0,  1], [ 0,  0],\n",
    "               [ 0, -1], [-1,  1], [-1,  0], [-1, -1] ]) # 9 vecteurs : 9 directions de déplacement\n",
    "v_np = cp.asnumpy(v)\n",
    "t = cp.array([ 1/36, 1/9, 1/36, 1/9, 4/9, 1/9, 1/36, 1/9, 1/36], dtype=cp.float32)\n",
    "t_np = cp.asnumpy(t)\n",
    "\n",
    "col1 = cp.array([0, 1, 2])\n",
    "col2 = cp.array([3, 4, 5])\n",
    "col3 = cp.array([6, 7, 8])\n",
    "\n",
    "col1_np = np.array([0, 1, 2])\n",
    "col2_np = np.array([3, 4, 5])\n",
    "col3_np = np.array([6, 7, 8])"
   ]
  },
  {
   "cell_type": "markdown",
   "id": "5cef7d59",
   "metadata": {},
   "source": [
    "# Code main functions"
   ]
  },
  {
   "cell_type": "markdown",
   "id": "411e58e6",
   "metadata": {},
   "source": [
    "### Macroscopic"
   ]
  },
  {
   "cell_type": "code",
   "execution_count": 5,
   "id": "80346e67",
   "metadata": {},
   "outputs": [],
   "source": [
    "def macroscopic(fin): \n",
    "    \"\"\"Compute macroscopic variables (density, velocity)\n",
    "\n",
    "    fluid density is 0th moment of distribution functions \n",
    "    fluid velocity components are 1st order moments of dist. functions\n",
    "    \"\"\"\n",
    "    timers.get(\"macroscopic\").start()\n",
    "    rho = cp.sum(fin, axis=0)\n",
    "    u = cp.zeros((2, nx, ny), dtype=cp.float32)\n",
    "    for i in range(9):\n",
    "        u[0,:,:] += v[i,0] * fin[i,:,:]\n",
    "        u[1,:,:] += v[i,1] * fin[i,:,:]\n",
    "    u /= rho\n",
    "    timers.get(\"macroscopic\").end()\n",
    "    return rho, u"
   ]
  },
  {
   "cell_type": "markdown",
   "id": "0dce3ef8",
   "metadata": {},
   "source": [
    "### Equilibrium"
   ]
  },
  {
   "cell_type": "code",
   "execution_count": 6,
   "id": "c8ca2491",
   "metadata": {},
   "outputs": [],
   "source": [
    "def equilibrium(rho, u):\n",
    "    \"\"\"Equilibrium distribution function.\n",
    "    \"\"\"\n",
    "    timers.get(\"equilibrium\").start()\n",
    "    usqr = 3/2 * (u[0]**2 + u[1]**2)\n",
    "    feq = cp.zeros((9,nx,ny), dtype=cp.float32)\n",
    "    for i in range(9):\n",
    "        cu = 3 * (v[i,0]*u[0,:,:] + v[i,1]*u[1,:,:])\n",
    "        feq[i,:,:] = rho*t[i] * (1 + cu + 0.5*cu**2 - usqr) \n",
    "        # feq[i,:,:] : dimension 1 la direction de déplacement de la particule\n",
    "        #               dimension 2 et 3 : x et y la position\n",
    "    timers.get(\"equilibrium\").end()\n",
    "    return feq"
   ]
  },
  {
   "cell_type": "markdown",
   "id": "a3fea4a1",
   "metadata": {},
   "source": [
    "### Main loop"
   ]
  },
  {
   "cell_type": "code",
   "execution_count": 7,
   "id": "e6b798cc",
   "metadata": {},
   "outputs": [],
   "source": [
    "def main(v, t):\n",
    "    # create obstacle mask array from element-wise function\n",
    "    obstacle = np.fromfunction(obstacle_fun, (nx,ny))\n",
    "    obstacle = cp.asarray(obstacle)\n",
    "    \n",
    "    # initial velocity field vx,vy from element-wise function\n",
    "    # vel is also used for inflow border condition\n",
    "    vel = np.fromfunction(inivel, (2,nx,ny)) \n",
    "    vel = cp.asarray(vel)\n",
    "    \n",
    "    # Initialization of the populations at equilibrium \n",
    "    # with the given velocity.\n",
    "    fin = equilibrium(1, vel) \n",
    "\n",
    "    ###### Main time loop ########\n",
    "    for time in range(maxIter):\n",
    "        # Right wall: outflow condition.\n",
    "        # we only need here to specify distrib. function for velocities\n",
    "        # that enter the domain (other that go out, are set by the streaming step)\n",
    "        timers.get(\"rightwall\").start()\n",
    "        fin[col3,nx-1,:] = fin[col3,nx-2,:] \n",
    "        timers.get(\"rightwall\").end()\n",
    "        \n",
    "        # Compute macroscopic variables, density and velocity.\n",
    "        rho, u = macroscopic(fin) # Timer in func\n",
    "\n",
    "        # Left wall: inflow condition.\n",
    "        timers.get(\"leftwall\").start()\n",
    "        u[:,0,:] = vel[:,0,:]\n",
    "        rho[0,:] = 1/(1-u[0,0,:]) * ( np.sum(fin[col2,0,:], axis=0) +\n",
    "                                      2*np.sum(fin[col3,0,:], axis=0) )\n",
    "        timers.get(\"leftwall\").end()\n",
    "        \n",
    "        # Compute equilibrium.\n",
    "        feq = equilibrium(rho, u) # Timer in func\n",
    "        timers.get(\"fineq\").start()\n",
    "        fin[[0,1,2],0,:] = feq[[0,1,2],0,:] + fin[[8,7,6],0,:] - feq[[8,7,6],0,:]\n",
    "        timers.get(\"fineq\").end()\n",
    "\n",
    "        # Collision step.\n",
    "        timers.get(\"collision\").start()\n",
    "        fout = fin - omega * (fin - feq) # Noyau de calcul 1\n",
    "        timers.get(\"collision\").end()\n",
    "\n",
    "        # Bounce-back condition for obstacle.\n",
    "        # in python language, we \"slice\" fout by obstacle\n",
    "        timers.get(\"bounceback\").start()\n",
    "        for i in range(9):\n",
    "            fout[i, obstacle] = fin[8-i, obstacle]\n",
    "        timers.get(\"bounceback\").end()\n",
    "\n",
    "        # Streaming step.\n",
    "        timers.get(\"streaming\").start()\n",
    "        for i in range(9):\n",
    "            fin[i,:,:] = cp.roll(cp.roll(fout[i,:,:], v_np[i,0], axis=0),\n",
    "                                 v_np[i,1], axis=1 ) # Noyau de calcul 2\n",
    "        timers.get(\"streaming\").end()\n",
    "        \n"
   ]
  },
  {
   "cell_type": "code",
   "execution_count": 8,
   "id": "feb333eb",
   "metadata": {},
   "outputs": [],
   "source": [
    "timers.get(\"main\").start()\n",
    "main(v, t)\n",
    "timers.get(\"main\").end()"
   ]
  },
  {
   "cell_type": "code",
   "execution_count": 9,
   "id": "e25a1d23",
   "metadata": {},
   "outputs": [
    {
     "name": "stdout",
     "output_type": "stream",
     "text": [
      "Total time : 9.02s\n",
      "--> Timer 'main         ' : N =    1 | Mean 9.023e+00 +- 0.e+00     | 100.0% of total time.\n",
      "--> Timer 'equilibrium  ' : N = 2001 | Mean 1.389e-03 +- 2.113e-03  | 30.81% of total time.\n",
      "--> Timer 'collision    ' : N = 2000 | Mean 4.166e-05 +- 7.513e-06  |  0.92% of total time.\n",
      "--> Timer 'streaming    ' : N = 2000 | Mean 7.386e-04 +- 3.848e-05  | 16.37% of total time.\n",
      "--> Timer 'macroscopic  ' : N = 2000 | Mean 4.525e-04 +- 5.484e-05  | 10.03% of total time.\n",
      "--> Timer 'rightwall    ' : N = 2000 | Mean 1.158e-04 +- 5.945e-05  |  2.57% of total time.\n",
      "--> Timer 'leftwall     ' : N = 2000 | Mean 2.617e-04 +- 7.233e-05  |   5.8% of total time.\n",
      "--> Timer 'fineq        ' : N = 2000 | Mean 3.783e-04 +- 1.996e-05  |  8.39% of total time.\n",
      "--> Timer 'bounceback   ' : N = 2000 | Mean 1.107e-03 +- 6.929e-05  | 24.54% of total time.\n",
      "--> Timer 'move_gpu->cpu' : N =    0\n",
      "--> Timer 'move_cpu->gpu' : N =    0\n",
      "--> Remaining 5.201e-02s not monitored represent  0.58% of total time\n"
     ]
    }
   ],
   "source": [
    "total = np.sum(timers.get(\"main\").getMeasures())\n",
    "print(f\"Total time : {total:4.2f}s\")\n",
    "timers.printInfo()"
   ]
  },
  {
   "cell_type": "code",
   "execution_count": null,
   "id": "6d3473c9",
   "metadata": {},
   "outputs": [],
   "source": []
  }
 ],
 "metadata": {
  "kernelspec": {
   "display_name": "Python 3 (ipykernel)",
   "language": "python",
   "name": "python3"
  },
  "language_info": {
   "codemirror_mode": {
    "name": "ipython",
    "version": 3
   },
   "file_extension": ".py",
   "mimetype": "text/x-python",
   "name": "python",
   "nbconvert_exporter": "python",
   "pygments_lexer": "ipython3",
   "version": "3.9.7"
  }
 },
 "nbformat": 4,
 "nbformat_minor": 5
}
