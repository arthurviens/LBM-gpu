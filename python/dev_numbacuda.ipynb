{
 "cells": [
  {
   "cell_type": "markdown",
   "id": "5e46c8d6",
   "metadata": {},
   "source": [
    "# Imports"
   ]
  },
  {
   "cell_type": "code",
   "execution_count": 1,
   "id": "09c126b8",
   "metadata": {},
   "outputs": [],
   "source": [
    "import numpy as np\n",
    "import cupy as cp\n",
    "from numba import cuda, vectorize\n",
    "from numpy import format_float_scientific as fs\n",
    "import matplotlib.pyplot as plt\n",
    "from matplotlib import cm\n",
    "import time\n",
    "import math\n",
    "\n",
    "from numba_kernels import * \n",
    "from Timers import Timer, TimersManager\n",
    "from lbmFlowAroundCylinder import inivel, obstacle_fun"
   ]
  },
  {
   "cell_type": "markdown",
   "id": "b5978f41",
   "metadata": {},
   "source": [
    "## Timers definition"
   ]
  },
  {
   "cell_type": "code",
   "execution_count": 2,
   "id": "cf2c508b",
   "metadata": {},
   "outputs": [],
   "source": [
    "timers = TimersManager()\n",
    "timers.add(\"main\")\n",
    "timers.add(\"equilibrium\")\n",
    "timers.add(\"collision\")\n",
    "timers.add(\"streaming\")\n",
    "timers.add(\"macroscopic\")\n",
    "timers.add(\"rightwall\")\n",
    "timers.add(\"leftwall\")\n",
    "timers.add(\"fin_inflow\")\n",
    "timers.add(\"bounceback\")\n",
    "timers.add(\"move_gpu->cpu\")\n",
    "timers.add(\"move_cpu->gpu\")"
   ]
  },
  {
   "cell_type": "markdown",
   "id": "0c1221c4",
   "metadata": {},
   "source": [
    "## Flow definitions"
   ]
  },
  {
   "cell_type": "code",
   "execution_count": 3,
   "id": "817c4d96",
   "metadata": {},
   "outputs": [],
   "source": [
    "maxIter = 2000    # Total number of time iterations.\n",
    "Re = 150.0          # Reynolds number.\n",
    "nx, ny = 4200, 4000   # Numer of lattice nodes.\n",
    "ly = ny-1           # Height of the domain in lattice units.\n",
    "cx, cy, r = nx//4, ny//2, ny//9 # Coordinates of the cylinder.\n",
    "uLB     = 0.04                  # Velocity in lattice units.\n",
    "nulb    = uLB*r/Re;             # Viscoscity in lattice units.\n",
    "omega = 1 / (3*nulb+0.5);    # Relaxation parameter.\n",
    "save_figures = False\n",
    "profile = True"
   ]
  },
  {
   "cell_type": "markdown",
   "id": "92440eef",
   "metadata": {},
   "source": [
    "## Lattice constants"
   ]
  },
  {
   "cell_type": "code",
   "execution_count": 4,
   "id": "94dd09b9",
   "metadata": {},
   "outputs": [],
   "source": [
    "v = cuda.to_device(np.array([ [ 1,  1], [ 1,  0], [ 1, -1], [ 0,  1], [ 0,  0],\n",
    "               [ 0, -1], [-1,  1], [-1,  0], [-1, -1] ], dtype=np.int32)) # 9 vecteurs : 9 directions de déplacement\n",
    "v_np = np.empty(shape=v.shape, dtype=v.dtype)\n",
    "v.copy_to_host(v_np)\n",
    "\n",
    "t = cuda.to_device(np.array([ 1/36, 1/9, 1/36, 1/9, 4/9, 1/9, 1/36, 1/9, 1/36], \n",
    "                            dtype=np.float32))\n",
    "t_np = np.empty(shape=t.shape, dtype=t.dtype)\n",
    "t.copy_to_host(t_np)\n",
    "\n",
    "col1 = np.array([0, 1, 2])\n",
    "col2 = np.array([3, 4, 5])\n",
    "col3 = np.array([6, 7, 8])"
   ]
  },
  {
   "cell_type": "markdown",
   "id": "5cef7d59",
   "metadata": {},
   "source": [
    "# Code main functions"
   ]
  },
  {
   "cell_type": "markdown",
   "id": "a3fea4a1",
   "metadata": {},
   "source": [
    "### Main loop"
   ]
  },
  {
   "cell_type": "code",
   "execution_count": 13,
   "id": "a67183e2",
   "metadata": {},
   "outputs": [],
   "source": [
    "def oneLoop(obstacle, vel, v, t, fin, rho, u, feq, fout):\n",
    "    rightwall_cuda[rig_blockspergrid, rig_threadsperblock](fin)\n",
    "    \n",
    "    macroscopic_cuda[mac_blockspergrid, mac_threadsperblock](fin, v, rho, u) \n",
    "\n",
    "    leftwall_cuda[lef_blockspergrid, lef_threadsperblock](fin, vel, u, rho)\n",
    "\n",
    "    equilibrium_cuda[equ_blockspergrid, equ_threadsperblock](rho, u, v, t, feq) \n",
    "    \n",
    "    fin_inflow_cuda[inf_blockspergrid, inf_threadsperblock](feq, fin)\n",
    "    \n",
    "    collision_cuda[col_blockspergrid, col_threadsperblock](fin, feq, fout)\n",
    "    \n",
    "    bounceback_cuda[bou_blockspergrid, bou_threadsperblock](fin, obstacle, fout)\n",
    "    \n",
    "    streaming_cuda[str_blockspergrid, str_threadsperblock](fout, v, fin)\n",
    "        "
   ]
  },
  {
   "cell_type": "code",
   "execution_count": 14,
   "id": "e6b798cc",
   "metadata": {},
   "outputs": [],
   "source": [
    "def main():\n",
    "    # create obstacle mask array from element-wise function\n",
    "    obstacle_device = cuda.to_device(np.fromfunction(obstacle_fun, (nx,ny), dtype=np.float32))\n",
    "    \n",
    "    # initial velocity field vx,vy from element-wise function\n",
    "    # vel is also used for inflow border condition\n",
    "    vel = np.fromfunction(inivel, (2,nx,ny), dtype=np.float32) \n",
    "    vel_device = cuda.to_device(vel)\n",
    "    \n",
    "    # Initialization of the populations at equilibrium \n",
    "    # with the given velocity.\n",
    "    fin_device = cuda.to_device(equilibrium(1, vel).astype(np.float32))\n",
    "    \n",
    "    rho_device = cuda.to_device(np.zeros(shape=(fin_device.shape[1], fin_device.shape[2]), dtype=np.float32))\n",
    "    \n",
    "    u_device = cuda.to_device(np.zeros((2, nx, ny), dtype=np.float32))\n",
    "    \n",
    "    feq_device = cuda.to_device(np.zeros_like(fin_device, dtype=np.float32))\n",
    "    \n",
    "    fout_device = cuda.to_device(np.zeros_like(fin_device, dtype=np.float32))\n",
    "    \n",
    "\n",
    "    for time in range(maxIter):\n",
    "        oneLoop(obstacle_device, vel_device, v, t, fin_device,\n",
    "                     rho_device, u_device, feq_device, fout_device)\n",
    "        \n",
    "\n",
    "def main_profile():\n",
    "    # create obstacle mask array from element-wise function\n",
    "    obstacle = np.fromfunction(obstacle_fun, (nx,ny), dtype=np.float32)\n",
    "    obstacle_device = cuda.to_device(obstacle)\n",
    "    \n",
    "    # initial velocity field vx,vy from element-wise function\n",
    "    # vel is also used for inflow border condition\n",
    "    vel = np.fromfunction(inivel, (2,nx,ny), dtype=np.float32)\n",
    "    vel_device = cuda.to_device(vel)\n",
    "    \n",
    "    # Initialization of the populations at equilibrium \n",
    "    # with the given velocity.\n",
    "    fin = equilibrium(1, vel).astype(np.float32)\n",
    "    fin_device = cuda.to_device(fin)\n",
    "    \n",
    "    rho = np.zeros(shape=(fin_device.shape[1], fin_device.shape[2]), dtype=np.float32)\n",
    "    rho_device = cuda.to_device(rho)\n",
    "    \n",
    "    u = np.zeros((2, nx, ny), dtype=np.float32)\n",
    "    u_device = cuda.to_device(u)\n",
    "    \n",
    "    feq = np.zeros_like(fin, dtype=np.float32)\n",
    "    feq_device = cuda.to_device(feq)\n",
    "    \n",
    "    fout = np.zeros_like(fin, dtype=np.float32)\n",
    "    fout_device = cuda.to_device(fout)\n",
    "    \n",
    "    ###### Main time loop ########\n",
    "    for time in range(maxIter):\n",
    "        # Right wall: outflow condition.\n",
    "        # we only need here to specify distrib. function for velocities\n",
    "        # that enter the domain (other that go out, are set by the streaming step)\n",
    "        \n",
    "        timers.get(\"rightwall\").start()\n",
    "        rightwall_cuda[rig_blockspergrid, rig_threadsperblock](fin_device)\n",
    "        timers.get(\"rightwall\").end()\n",
    "\n",
    "        \n",
    "        # Compute macroscopic variables, density and velocity.\n",
    "        timers.get(\"macroscopic\").start()\n",
    "        macroscopic_cuda[mac_blockspergrid, mac_threadsperblock](fin_device, v, rho_device, u_device) # Timer in func\n",
    "        #rho, u = macroscopic(fin)\n",
    "        timers.get(\"macroscopic\").end()\n",
    "        \n",
    "        # Left wall: inflow condition.\n",
    "        timers.get(\"leftwall\").start()\n",
    "        ########################## NE FONCTIONNE PAS\n",
    "        #u[:,0,:] = vel[:,0,:]                                             # A remettre pour exécution sur CPU\n",
    "        #rho[0,:] = 1/(1-u[0,0,:]) * ( np.sum(fin[col2,0,:], axis=0) +     # A remettre pour exécution sur CPU\n",
    "        #                                2*np.sum(fin[col3,0,:], axis=0) ) # A remettre pour exécution sur CPU\n",
    "        leftwall_cuda[lef_blockspergrid, lef_threadsperblock](fin_device, vel_device, u_device, rho_device)\n",
    "        timers.get(\"leftwall\").end()\n",
    "        \n",
    "\n",
    "        \n",
    "        # Compute equilibrium.\n",
    "        timers.get(\"equilibrium\").start()\n",
    "        equilibrium_cuda[equ_blockspergrid, equ_threadsperblock](rho_device, u_device, v, t, feq_device) # Timer in func\n",
    "        #feq = equilibrium(rho, u)\n",
    "        timers.get(\"equilibrium\").end()\n",
    "    \n",
    "\n",
    "    \n",
    "    \n",
    "        timers.get(\"fin_inflow\").start()\n",
    "        fin_inflow_cuda[inf_blockspergrid, inf_threadsperblock](feq_device, fin_device)\n",
    "        #fin[[0,1,2],0,:] = feq[[0,1,2],0,:] + fin[[8,7,6],0,:] - feq[[8,7,6],0,:]\n",
    "        timers.get(\"fin_inflow\").end()\n",
    "\n",
    "\n",
    "        # Collision step.\n",
    "        timers.get(\"collision\").start()\n",
    "        #fout = fin - omega * (fin - feq) # Noyau de calcul 1\n",
    "        collision_cuda[col_blockspergrid, col_threadsperblock](fin_device, feq_device, fout_device)\n",
    "        timers.get(\"collision\").end()\n",
    "\n",
    "    \n",
    "        \n",
    "        # Bounce-back condition for obstacle.\n",
    "        # in python language, we \"slice\" fout by obstacle\n",
    "        timers.get(\"bounceback\").start()\n",
    "        bounceback_cuda[bou_blockspergrid, bou_threadsperblock](fin_device, obstacle_device, fout_device)\n",
    "        #for i in range(9):\n",
    "        #    fout[i, obstacle] = fin[8-i, obstacle]\n",
    "        timers.get(\"bounceback\").end()\n",
    "\n",
    "\n",
    "        # Streaming step.\n",
    "        timers.get(\"streaming\").start()\n",
    "        #for i in range(9):\n",
    "        #    fin[i,:,:] = np.roll(np.roll(fout[i,:,:], v_np[i,0], axis=0),\n",
    "        #                         v_np[i,1], axis=1 ) # Noyau de calcul 2\n",
    "        streaming_cuda[str_blockspergrid, str_threadsperblock](fout_device, v, fin_device)\n",
    "        timers.get(\"streaming\").end()\n",
    "\n",
    "\n",
    "        \n",
    "        if ((time%100==0) and save_figures):\n",
    "            plt.clf()\n",
    "            u_device.copy_to_host(u)\n",
    "            plt.imshow(np.sqrt(u[0]**2+u[1]**2).transpose(), cmap=cm.Reds)\n",
    "            plt.show()\n",
    "            #plt.savefig(\"figures/vel.{0:04d}.png\".format(time//100))\n"
   ]
  },
  {
   "cell_type": "code",
   "execution_count": 15,
   "id": "b10ae91a",
   "metadata": {},
   "outputs": [],
   "source": [
    "if profile:\n",
    "    timers.get(\"main\").start()\n",
    "    main_profile()\n",
    "    timers.get(\"main\").end()\n",
    "else:\n",
    "    timers.get(\"main\").start()\n",
    "    main()\n",
    "    timers.get(\"main\").end()\n",
    "\n",
    "# Warnings ignorés pour l'instant, à régler à la fin"
   ]
  },
  {
   "cell_type": "code",
   "execution_count": 16,
   "id": "3358803b",
   "metadata": {
    "scrolled": false
   },
   "outputs": [
    {
     "name": "stdout",
     "output_type": "stream",
     "text": [
      "Total time : 16.31s\n",
      "--> Timer 'main         ' : N =    1 | Mean 1.631e+01 +- 0.e+00     | 100.0% of total time.\n",
      "--> Timer 'equilibrium  ' : N = 2000 | Mean 2.061e-03 +- 1.845e-03  | 25.27% of total time.\n",
      "--> Timer 'collision    ' : N = 2000 | Mean 1.599e-03 +- 1.317e-03  |  19.6% of total time.\n",
      "--> Timer 'streaming    ' : N = 2000 | Mean 9.229e-04 +- 1.792e-03  | 11.32% of total time.\n",
      "--> Timer 'macroscopic  ' : N = 2000 | Mean 2.016e-03 +- 1.826e-03  | 24.71% of total time.\n",
      "--> Timer 'rightwall    ' : N = 2000 | Mean 1.845e-04 +- 5.689e-03  |  2.26% of total time.\n",
      "--> Timer 'leftwall     ' : N = 2000 | Mean 1.279e-04 +- 1.671e-03  |  1.57% of total time.\n",
      "--> Timer 'fin_inflow   ' : N = 2000 | Mean 2.639e-04 +- 3.291e-03  |  3.24% of total time.\n",
      "--> Timer 'bounceback   ' : N = 2000 | Mean 1.346e-04 +- 1.226e-03  |  1.65% of total time.\n",
      "--> Timer 'move_gpu->cpu' : N =    0\n",
      "--> Timer 'move_cpu->gpu' : N =    0\n",
      "--> Remaining 1.693e+00s not monitored represent 10.38% of total time\n",
      "mem bandwidth equilibrium   : 652.062 GB/s\n",
      "mem bandwidth collision     : 1513.291 GB/s\n",
      "mem bandwidth streaming     : 1310.668 GB/s\n",
      "mem bandwidth macroscopic   : 366.741 GB/s\n",
      "mem bandwidth rightwall     : 1.041 GB/s\n",
      "mem bandwidth leftwall      : 1.376 GB/s\n",
      "mem bandwidth fin_inflow    : 0.727 GB/s\n",
      "mem bandwidth bounceback    : 8987.778 GB/s\n",
      "flops intensity equilibrium   : 863.982 Gflops/s\n",
      "flops intensity collision     : 315.269 Gflops/s\n",
      "flops intensity streaming     : 2020.612 Gflops/s\n",
      "flops intensity macroscopic   : 550.111 Gflops/s\n",
      "flops intensity rightwall     : 0.13 Gflops/s\n",
      "flops intensity leftwall      : 0.313 Gflops/s\n",
      "flops intensity fin_inflow    : 0.106 Gflops/s\n",
      "flops intensity bounceback    : 1622.793 Gflops/s\n"
     ]
    }
   ],
   "source": [
    "total = np.sum(timers.get(\"main\").getMeasures())\n",
    "print(f\"Total time : {total:4.2f}s\")\n",
    "timers.printInfo()\n",
    "timers.printBd(nx, ny, 4)\n",
    "timers.printGflops(nx, ny)"
   ]
  },
  {
   "cell_type": "markdown",
   "id": "f13eb34a",
   "metadata": {},
   "source": [
    "## Tests"
   ]
  }
 ],
 "metadata": {
  "kernelspec": {
   "display_name": "Python 3 (ipykernel)",
   "language": "python",
   "name": "python3"
  },
  "language_info": {
   "codemirror_mode": {
    "name": "ipython",
    "version": 3
   },
   "file_extension": ".py",
   "mimetype": "text/x-python",
   "name": "python",
   "nbconvert_exporter": "python",
   "pygments_lexer": "ipython3",
   "version": "3.9.7"
  }
 },
 "nbformat": 4,
 "nbformat_minor": 5
}
